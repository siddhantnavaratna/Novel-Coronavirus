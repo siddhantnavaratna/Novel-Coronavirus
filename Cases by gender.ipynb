{
 "cells": [
  {
   "cell_type": "code",
   "execution_count": 1,
   "metadata": {},
   "outputs": [],
   "source": [
    "import pandas as pd\n",
    "import numpy as np"
   ]
  },
  {
   "cell_type": "code",
   "execution_count": 2,
   "metadata": {},
   "outputs": [],
   "source": [
    "data = pd.read_csv(\"cases.csv\")"
   ]
  },
  {
   "cell_type": "code",
   "execution_count": 3,
   "metadata": {
    "scrolled": true
   },
   "outputs": [
    {
     "data": {
      "text/html": [
       "<div>\n",
       "<style scoped>\n",
       "    .dataframe tbody tr th:only-of-type {\n",
       "        vertical-align: middle;\n",
       "    }\n",
       "\n",
       "    .dataframe tbody tr th {\n",
       "        vertical-align: top;\n",
       "    }\n",
       "\n",
       "    .dataframe thead th {\n",
       "        text-align: right;\n",
       "    }\n",
       "</style>\n",
       "<table border=\"1\" class=\"dataframe\">\n",
       "  <thead>\n",
       "    <tr style=\"text-align: right;\">\n",
       "      <th></th>\n",
       "      <th>DATE</th>\n",
       "      <th>PROVINCE</th>\n",
       "      <th>REGION</th>\n",
       "      <th>AGEGROUP</th>\n",
       "      <th>SEX</th>\n",
       "      <th>CASES</th>\n",
       "    </tr>\n",
       "  </thead>\n",
       "  <tbody>\n",
       "    <tr>\n",
       "      <th>0</th>\n",
       "      <td>3/1/2020</td>\n",
       "      <td>Brussels</td>\n",
       "      <td>Brussels</td>\n",
       "      <td>19-Oct</td>\n",
       "      <td>M</td>\n",
       "      <td>1</td>\n",
       "    </tr>\n",
       "    <tr>\n",
       "      <th>1</th>\n",
       "      <td>3/1/2020</td>\n",
       "      <td>Brussels</td>\n",
       "      <td>Brussels</td>\n",
       "      <td>19-Oct</td>\n",
       "      <td>F</td>\n",
       "      <td>1</td>\n",
       "    </tr>\n",
       "    <tr>\n",
       "      <th>2</th>\n",
       "      <td>3/1/2020</td>\n",
       "      <td>Brussels</td>\n",
       "      <td>Brussels</td>\n",
       "      <td>20-29</td>\n",
       "      <td>M</td>\n",
       "      <td>1</td>\n",
       "    </tr>\n",
       "    <tr>\n",
       "      <th>3</th>\n",
       "      <td>3/1/2020</td>\n",
       "      <td>Brussels</td>\n",
       "      <td>Brussels</td>\n",
       "      <td>30-39</td>\n",
       "      <td>F</td>\n",
       "      <td>1</td>\n",
       "    </tr>\n",
       "    <tr>\n",
       "      <th>4</th>\n",
       "      <td>3/1/2020</td>\n",
       "      <td>Brussels</td>\n",
       "      <td>Brussels</td>\n",
       "      <td>40-49</td>\n",
       "      <td>F</td>\n",
       "      <td>1</td>\n",
       "    </tr>\n",
       "  </tbody>\n",
       "</table>\n",
       "</div>"
      ],
      "text/plain": [
       "       DATE  PROVINCE    REGION AGEGROUP SEX  CASES\n",
       "0  3/1/2020  Brussels  Brussels   19-Oct   M      1\n",
       "1  3/1/2020  Brussels  Brussels   19-Oct   F      1\n",
       "2  3/1/2020  Brussels  Brussels    20-29   M      1\n",
       "3  3/1/2020  Brussels  Brussels    30-39   F      1\n",
       "4  3/1/2020  Brussels  Brussels    40-49   F      1"
      ]
     },
     "execution_count": 3,
     "metadata": {},
     "output_type": "execute_result"
    }
   ],
   "source": [
    "data.head()"
   ]
  },
  {
   "cell_type": "code",
   "execution_count": 4,
   "metadata": {},
   "outputs": [
    {
     "name": "stdout",
     "output_type": "stream",
     "text": [
      "Total columns in the dataset are: 8744\n"
     ]
    }
   ],
   "source": [
    "# Calculating total columns\n",
    "total_rows = data.shape[0]\n",
    "print(\"Total columns in the dataset are: {}\".format(total_rows))"
   ]
  },
  {
   "cell_type": "code",
   "execution_count": 5,
   "metadata": {},
   "outputs": [
    {
     "name": "stdout",
     "output_type": "stream",
     "text": [
      "DATE         45\n",
      "PROVINCE    513\n",
      "REGION      513\n",
      "AGEGROUP     95\n",
      "SEX         105\n",
      "CASES         0\n",
      "dtype: int64\n"
     ]
    }
   ],
   "source": [
    "# Counting missing values.\n",
    "total_missing = total_rows - data.count()\n",
    "print(total_missing)"
   ]
  },
  {
   "cell_type": "code",
   "execution_count": 6,
   "metadata": {},
   "outputs": [],
   "source": [
    "# Dropping missing values from the dataset.\n",
    "data = data.dropna(how=\"any\")"
   ]
  },
  {
   "cell_type": "code",
   "execution_count": 7,
   "metadata": {},
   "outputs": [
    {
     "name": "stdout",
     "output_type": "stream",
     "text": [
      "The number of missing values in the dataset are: 0\n"
     ]
    }
   ],
   "source": [
    "# Verifying the counts\n",
    "print(\"The number of missing values in the dataset are: {}\".format(np.count_nonzero(data.isnull())))"
   ]
  },
  {
   "cell_type": "code",
   "execution_count": 8,
   "metadata": {},
   "outputs": [
    {
     "name": "stdout",
     "output_type": "stream",
     "text": [
      "The total number of duplicate rows in the reviews dataset are: 0\n"
     ]
    },
    {
     "data": {
      "text/html": [
       "<div>\n",
       "<style scoped>\n",
       "    .dataframe tbody tr th:only-of-type {\n",
       "        vertical-align: middle;\n",
       "    }\n",
       "\n",
       "    .dataframe tbody tr th {\n",
       "        vertical-align: top;\n",
       "    }\n",
       "\n",
       "    .dataframe thead th {\n",
       "        text-align: right;\n",
       "    }\n",
       "</style>\n",
       "<table border=\"1\" class=\"dataframe\">\n",
       "  <thead>\n",
       "    <tr style=\"text-align: right;\">\n",
       "      <th></th>\n",
       "      <th>DATE</th>\n",
       "      <th>PROVINCE</th>\n",
       "      <th>REGION</th>\n",
       "      <th>AGEGROUP</th>\n",
       "      <th>SEX</th>\n",
       "      <th>CASES</th>\n",
       "    </tr>\n",
       "  </thead>\n",
       "  <tbody>\n",
       "  </tbody>\n",
       "</table>\n",
       "</div>"
      ],
      "text/plain": [
       "Empty DataFrame\n",
       "Columns: [DATE, PROVINCE, REGION, AGEGROUP, SEX, CASES]\n",
       "Index: []"
      ]
     },
     "execution_count": 8,
     "metadata": {},
     "output_type": "execute_result"
    }
   ],
   "source": [
    "# Checking duplicate rows\n",
    "duplicate_rows = data[data.duplicated()]\n",
    "print(\"The total number of duplicate rows in the reviews dataset are: {}\".format(duplicate_rows.shape[0]))\n",
    "duplicate_rows.head()"
   ]
  },
  {
   "cell_type": "code",
   "execution_count": 9,
   "metadata": {},
   "outputs": [
    {
     "data": {
      "text/plain": [
       "(8063, 6)"
      ]
     },
     "execution_count": 9,
     "metadata": {},
     "output_type": "execute_result"
    }
   ],
   "source": [
    "data.shape"
   ]
  },
  {
   "cell_type": "code",
   "execution_count": 10,
   "metadata": {},
   "outputs": [
    {
     "data": {
      "text/html": [
       "<div>\n",
       "<style scoped>\n",
       "    .dataframe tbody tr th:only-of-type {\n",
       "        vertical-align: middle;\n",
       "    }\n",
       "\n",
       "    .dataframe tbody tr th {\n",
       "        vertical-align: top;\n",
       "    }\n",
       "\n",
       "    .dataframe thead th {\n",
       "        text-align: right;\n",
       "    }\n",
       "</style>\n",
       "<table border=\"1\" class=\"dataframe\">\n",
       "  <thead>\n",
       "    <tr style=\"text-align: right;\">\n",
       "      <th></th>\n",
       "      <th>DATE</th>\n",
       "      <th>REGION</th>\n",
       "      <th>AGEGROUP</th>\n",
       "      <th>SEX</th>\n",
       "      <th>CASES</th>\n",
       "      <th>gender_M</th>\n",
       "      <th>region_Flanders</th>\n",
       "      <th>region_Wallonia</th>\n",
       "    </tr>\n",
       "  </thead>\n",
       "  <tbody>\n",
       "    <tr>\n",
       "      <th>0</th>\n",
       "      <td>3/1/2020</td>\n",
       "      <td>Brussels</td>\n",
       "      <td>19-Oct</td>\n",
       "      <td>M</td>\n",
       "      <td>1</td>\n",
       "      <td>1</td>\n",
       "      <td>0</td>\n",
       "      <td>0</td>\n",
       "    </tr>\n",
       "    <tr>\n",
       "      <th>1</th>\n",
       "      <td>3/1/2020</td>\n",
       "      <td>Brussels</td>\n",
       "      <td>19-Oct</td>\n",
       "      <td>F</td>\n",
       "      <td>1</td>\n",
       "      <td>0</td>\n",
       "      <td>0</td>\n",
       "      <td>0</td>\n",
       "    </tr>\n",
       "    <tr>\n",
       "      <th>2</th>\n",
       "      <td>3/1/2020</td>\n",
       "      <td>Brussels</td>\n",
       "      <td>20-29</td>\n",
       "      <td>M</td>\n",
       "      <td>1</td>\n",
       "      <td>1</td>\n",
       "      <td>0</td>\n",
       "      <td>0</td>\n",
       "    </tr>\n",
       "    <tr>\n",
       "      <th>3</th>\n",
       "      <td>3/1/2020</td>\n",
       "      <td>Brussels</td>\n",
       "      <td>30-39</td>\n",
       "      <td>F</td>\n",
       "      <td>1</td>\n",
       "      <td>0</td>\n",
       "      <td>0</td>\n",
       "      <td>0</td>\n",
       "    </tr>\n",
       "    <tr>\n",
       "      <th>4</th>\n",
       "      <td>3/1/2020</td>\n",
       "      <td>Brussels</td>\n",
       "      <td>40-49</td>\n",
       "      <td>F</td>\n",
       "      <td>1</td>\n",
       "      <td>0</td>\n",
       "      <td>0</td>\n",
       "      <td>0</td>\n",
       "    </tr>\n",
       "  </tbody>\n",
       "</table>\n",
       "</div>"
      ],
      "text/plain": [
       "       DATE    REGION AGEGROUP SEX  CASES  gender_M  region_Flanders  \\\n",
       "0  3/1/2020  Brussels   19-Oct   M      1         1                0   \n",
       "1  3/1/2020  Brussels   19-Oct   F      1         0                0   \n",
       "2  3/1/2020  Brussels    20-29   M      1         1                0   \n",
       "3  3/1/2020  Brussels    30-39   F      1         0                0   \n",
       "4  3/1/2020  Brussels    40-49   F      1         0                0   \n",
       "\n",
       "   region_Wallonia  \n",
       "0                0  \n",
       "1                0  \n",
       "2                0  \n",
       "3                0  \n",
       "4                0  "
      ]
     },
     "execution_count": 10,
     "metadata": {},
     "output_type": "execute_result"
    }
   ],
   "source": [
    "gender_dummy = pd.get_dummies(data['SEX'], prefix = 'gender', drop_first = True)\n",
    "\n",
    "region_dummy = pd.get_dummies(data['REGION'], prefix = 'region', drop_first = True)\n",
    "\n",
    "del data['PROVINCE']\n",
    "data = pd.concat([data ,gender_dummy, region_dummy], axis=1)\n",
    "data.head()"
   ]
  },
  {
   "cell_type": "code",
   "execution_count": 11,
   "metadata": {},
   "outputs": [
    {
     "data": {
      "text/html": [
       "<div>\n",
       "<style scoped>\n",
       "    .dataframe tbody tr th:only-of-type {\n",
       "        vertical-align: middle;\n",
       "    }\n",
       "\n",
       "    .dataframe tbody tr th {\n",
       "        vertical-align: top;\n",
       "    }\n",
       "\n",
       "    .dataframe thead th {\n",
       "        text-align: right;\n",
       "    }\n",
       "</style>\n",
       "<table border=\"1\" class=\"dataframe\">\n",
       "  <thead>\n",
       "    <tr style=\"text-align: right;\">\n",
       "      <th></th>\n",
       "      <th>CASES</th>\n",
       "      <th>gender_M</th>\n",
       "      <th>region_Flanders</th>\n",
       "      <th>region_Wallonia</th>\n",
       "    </tr>\n",
       "  </thead>\n",
       "  <tbody>\n",
       "    <tr>\n",
       "      <th>CASES</th>\n",
       "      <td>1.000000</td>\n",
       "      <td>-0.201233</td>\n",
       "      <td>0.102704</td>\n",
       "      <td>-0.106079</td>\n",
       "    </tr>\n",
       "    <tr>\n",
       "      <th>gender_M</th>\n",
       "      <td>-0.201233</td>\n",
       "      <td>1.000000</td>\n",
       "      <td>0.011645</td>\n",
       "      <td>-0.017906</td>\n",
       "    </tr>\n",
       "    <tr>\n",
       "      <th>region_Flanders</th>\n",
       "      <td>0.102704</td>\n",
       "      <td>0.011645</td>\n",
       "      <td>1.000000</td>\n",
       "      <td>-0.809902</td>\n",
       "    </tr>\n",
       "    <tr>\n",
       "      <th>region_Wallonia</th>\n",
       "      <td>-0.106079</td>\n",
       "      <td>-0.017906</td>\n",
       "      <td>-0.809902</td>\n",
       "      <td>1.000000</td>\n",
       "    </tr>\n",
       "  </tbody>\n",
       "</table>\n",
       "</div>"
      ],
      "text/plain": [
       "                    CASES  gender_M  region_Flanders  region_Wallonia\n",
       "CASES            1.000000 -0.201233         0.102704        -0.106079\n",
       "gender_M        -0.201233  1.000000         0.011645        -0.017906\n",
       "region_Flanders  0.102704  0.011645         1.000000        -0.809902\n",
       "region_Wallonia -0.106079 -0.017906        -0.809902         1.000000"
      ]
     },
     "execution_count": 11,
     "metadata": {},
     "output_type": "execute_result"
    }
   ],
   "source": [
    "data.corr()"
   ]
  },
  {
   "cell_type": "code",
   "execution_count": 12,
   "metadata": {},
   "outputs": [
    {
     "data": {
      "text/html": [
       "<style  type=\"text/css\" >\n",
       "    #T_70e17136_90b3_11ea_b324_7440bbd6e0b0row0_col0 {\n",
       "            background-color:  #023858;\n",
       "            color:  #f1f1f1;\n",
       "        }    #T_70e17136_90b3_11ea_b324_7440bbd6e0b0row0_col1 {\n",
       "            background-color:  #fff7fb;\n",
       "            color:  #000000;\n",
       "        }    #T_70e17136_90b3_11ea_b324_7440bbd6e0b0row0_col2 {\n",
       "            background-color:  #71a8ce;\n",
       "            color:  #000000;\n",
       "        }    #T_70e17136_90b3_11ea_b324_7440bbd6e0b0row0_col3 {\n",
       "            background-color:  #a1bbda;\n",
       "            color:  #000000;\n",
       "        }    #T_70e17136_90b3_11ea_b324_7440bbd6e0b0row1_col0 {\n",
       "            background-color:  #fff7fb;\n",
       "            color:  #000000;\n",
       "        }    #T_70e17136_90b3_11ea_b324_7440bbd6e0b0row1_col1 {\n",
       "            background-color:  #023858;\n",
       "            color:  #f1f1f1;\n",
       "        }    #T_70e17136_90b3_11ea_b324_7440bbd6e0b0row1_col2 {\n",
       "            background-color:  #86b0d3;\n",
       "            color:  #000000;\n",
       "        }    #T_70e17136_90b3_11ea_b324_7440bbd6e0b0row1_col3 {\n",
       "            background-color:  #8cb3d5;\n",
       "            color:  #000000;\n",
       "        }    #T_70e17136_90b3_11ea_b324_7440bbd6e0b0row2_col0 {\n",
       "            background-color:  #d0d1e6;\n",
       "            color:  #000000;\n",
       "        }    #T_70e17136_90b3_11ea_b324_7440bbd6e0b0row2_col1 {\n",
       "            background-color:  #e0deed;\n",
       "            color:  #000000;\n",
       "        }    #T_70e17136_90b3_11ea_b324_7440bbd6e0b0row2_col2 {\n",
       "            background-color:  #023858;\n",
       "            color:  #f1f1f1;\n",
       "        }    #T_70e17136_90b3_11ea_b324_7440bbd6e0b0row2_col3 {\n",
       "            background-color:  #fff7fb;\n",
       "            color:  #000000;\n",
       "        }    #T_70e17136_90b3_11ea_b324_7440bbd6e0b0row3_col0 {\n",
       "            background-color:  #f3edf5;\n",
       "            color:  #000000;\n",
       "        }    #T_70e17136_90b3_11ea_b324_7440bbd6e0b0row3_col1 {\n",
       "            background-color:  #e6e2ef;\n",
       "            color:  #000000;\n",
       "        }    #T_70e17136_90b3_11ea_b324_7440bbd6e0b0row3_col2 {\n",
       "            background-color:  #fff7fb;\n",
       "            color:  #000000;\n",
       "        }    #T_70e17136_90b3_11ea_b324_7440bbd6e0b0row3_col3 {\n",
       "            background-color:  #023858;\n",
       "            color:  #f1f1f1;\n",
       "        }</style><table id=\"T_70e17136_90b3_11ea_b324_7440bbd6e0b0\" ><thead>    <tr>        <th class=\"blank level0\" ></th>        <th class=\"col_heading level0 col0\" >CASES</th>        <th class=\"col_heading level0 col1\" >gender_M</th>        <th class=\"col_heading level0 col2\" >region_Flanders</th>        <th class=\"col_heading level0 col3\" >region_Wallonia</th>    </tr></thead><tbody>\n",
       "                <tr>\n",
       "                        <th id=\"T_70e17136_90b3_11ea_b324_7440bbd6e0b0level0_row0\" class=\"row_heading level0 row0\" >CASES</th>\n",
       "                        <td id=\"T_70e17136_90b3_11ea_b324_7440bbd6e0b0row0_col0\" class=\"data row0 col0\" >1.000000</td>\n",
       "                        <td id=\"T_70e17136_90b3_11ea_b324_7440bbd6e0b0row0_col1\" class=\"data row0 col1\" >-0.201233</td>\n",
       "                        <td id=\"T_70e17136_90b3_11ea_b324_7440bbd6e0b0row0_col2\" class=\"data row0 col2\" >0.102704</td>\n",
       "                        <td id=\"T_70e17136_90b3_11ea_b324_7440bbd6e0b0row0_col3\" class=\"data row0 col3\" >-0.106079</td>\n",
       "            </tr>\n",
       "            <tr>\n",
       "                        <th id=\"T_70e17136_90b3_11ea_b324_7440bbd6e0b0level0_row1\" class=\"row_heading level0 row1\" >gender_M</th>\n",
       "                        <td id=\"T_70e17136_90b3_11ea_b324_7440bbd6e0b0row1_col0\" class=\"data row1 col0\" >-0.201233</td>\n",
       "                        <td id=\"T_70e17136_90b3_11ea_b324_7440bbd6e0b0row1_col1\" class=\"data row1 col1\" >1.000000</td>\n",
       "                        <td id=\"T_70e17136_90b3_11ea_b324_7440bbd6e0b0row1_col2\" class=\"data row1 col2\" >0.011645</td>\n",
       "                        <td id=\"T_70e17136_90b3_11ea_b324_7440bbd6e0b0row1_col3\" class=\"data row1 col3\" >-0.017906</td>\n",
       "            </tr>\n",
       "            <tr>\n",
       "                        <th id=\"T_70e17136_90b3_11ea_b324_7440bbd6e0b0level0_row2\" class=\"row_heading level0 row2\" >region_Flanders</th>\n",
       "                        <td id=\"T_70e17136_90b3_11ea_b324_7440bbd6e0b0row2_col0\" class=\"data row2 col0\" >0.102704</td>\n",
       "                        <td id=\"T_70e17136_90b3_11ea_b324_7440bbd6e0b0row2_col1\" class=\"data row2 col1\" >0.011645</td>\n",
       "                        <td id=\"T_70e17136_90b3_11ea_b324_7440bbd6e0b0row2_col2\" class=\"data row2 col2\" >1.000000</td>\n",
       "                        <td id=\"T_70e17136_90b3_11ea_b324_7440bbd6e0b0row2_col3\" class=\"data row2 col3\" >-0.809902</td>\n",
       "            </tr>\n",
       "            <tr>\n",
       "                        <th id=\"T_70e17136_90b3_11ea_b324_7440bbd6e0b0level0_row3\" class=\"row_heading level0 row3\" >region_Wallonia</th>\n",
       "                        <td id=\"T_70e17136_90b3_11ea_b324_7440bbd6e0b0row3_col0\" class=\"data row3 col0\" >-0.106079</td>\n",
       "                        <td id=\"T_70e17136_90b3_11ea_b324_7440bbd6e0b0row3_col1\" class=\"data row3 col1\" >-0.017906</td>\n",
       "                        <td id=\"T_70e17136_90b3_11ea_b324_7440bbd6e0b0row3_col2\" class=\"data row3 col2\" >-0.809902</td>\n",
       "                        <td id=\"T_70e17136_90b3_11ea_b324_7440bbd6e0b0row3_col3\" class=\"data row3 col3\" >1.000000</td>\n",
       "            </tr>\n",
       "    </tbody></table>"
      ],
      "text/plain": [
       "<pandas.io.formats.style.Styler at 0x23f0485f7f0>"
      ]
     },
     "execution_count": 12,
     "metadata": {},
     "output_type": "execute_result"
    }
   ],
   "source": [
    "corr = data.corr()\n",
    "corr.style.background_gradient(cmap='PuBu')"
   ]
  },
  {
   "cell_type": "code",
   "execution_count": 13,
   "metadata": {},
   "outputs": [
    {
     "data": {
      "text/html": [
       "<table class=\"simpletable\">\n",
       "<caption>OLS Regression Results</caption>\n",
       "<tr>\n",
       "  <th>Dep. Variable:</th>          <td>CASES</td>      <th>  R-squared:         </th> <td>   0.053</td> \n",
       "</tr>\n",
       "<tr>\n",
       "  <th>Model:</th>                   <td>OLS</td>       <th>  Adj. R-squared:    </th> <td>   0.053</td> \n",
       "</tr>\n",
       "<tr>\n",
       "  <th>Method:</th>             <td>Least Squares</td>  <th>  F-statistic:       </th> <td>   151.2</td> \n",
       "</tr>\n",
       "<tr>\n",
       "  <th>Date:</th>             <td>Thu, 07 May 2020</td> <th>  Prob (F-statistic):</th> <td>2.41e-95</td> \n",
       "</tr>\n",
       "<tr>\n",
       "  <th>Time:</th>                 <td>15:38:18</td>     <th>  Log-Likelihood:    </th> <td> -26729.</td> \n",
       "</tr>\n",
       "<tr>\n",
       "  <th>No. Observations:</th>      <td>  8063</td>      <th>  AIC:               </th> <td>5.347e+04</td>\n",
       "</tr>\n",
       "<tr>\n",
       "  <th>Df Residuals:</th>          <td>  8059</td>      <th>  BIC:               </th> <td>5.349e+04</td>\n",
       "</tr>\n",
       "<tr>\n",
       "  <th>Df Model:</th>              <td>     3</td>      <th>                     </th>     <td> </td>    \n",
       "</tr>\n",
       "<tr>\n",
       "  <th>Covariance Type:</th>      <td>nonrobust</td>    <th>                     </th>     <td> </td>    \n",
       "</tr>\n",
       "</table>\n",
       "<table class=\"simpletable\">\n",
       "<tr>\n",
       "         <td></td>            <th>coef</th>     <th>std err</th>      <th>t</th>      <th>P>|t|</th>  <th>[0.025</th>    <th>0.975]</th>  \n",
       "</tr>\n",
       "<tr>\n",
       "  <th>const</th>           <td>    7.2932</td> <td>    0.242</td> <td>   30.152</td> <td> 0.000</td> <td>    6.819</td> <td>    7.767</td>\n",
       "</tr>\n",
       "<tr>\n",
       "  <th>gender_M</th>        <td>   -2.7808</td> <td>    0.148</td> <td>  -18.732</td> <td> 0.000</td> <td>   -3.072</td> <td>   -2.490</td>\n",
       "</tr>\n",
       "<tr>\n",
       "  <th>region_Flanders</th> <td>    0.6449</td> <td>    0.253</td> <td>    2.550</td> <td> 0.011</td> <td>    0.149</td> <td>    1.141</td>\n",
       "</tr>\n",
       "<tr>\n",
       "  <th>region_Wallonia</th> <td>   -1.0021</td> <td>    0.259</td> <td>   -3.872</td> <td> 0.000</td> <td>   -1.509</td> <td>   -0.495</td>\n",
       "</tr>\n",
       "</table>\n",
       "<table class=\"simpletable\">\n",
       "<tr>\n",
       "  <th>Omnibus:</th>       <td>6903.849</td> <th>  Durbin-Watson:     </th>  <td>   1.233</td> \n",
       "</tr>\n",
       "<tr>\n",
       "  <th>Prob(Omnibus):</th>  <td> 0.000</td>  <th>  Jarque-Bera (JB):  </th> <td>340021.674</td>\n",
       "</tr>\n",
       "<tr>\n",
       "  <th>Skew:</th>           <td> 3.861</td>  <th>  Prob(JB):          </th>  <td>    0.00</td> \n",
       "</tr>\n",
       "<tr>\n",
       "  <th>Kurtosis:</th>       <td>33.862</td>  <th>  Cond. No.          </th>  <td>    7.24</td> \n",
       "</tr>\n",
       "</table><br/><br/>Warnings:<br/>[1] Standard Errors assume that the covariance matrix of the errors is correctly specified."
      ],
      "text/plain": [
       "<class 'statsmodels.iolib.summary.Summary'>\n",
       "\"\"\"\n",
       "                            OLS Regression Results                            \n",
       "==============================================================================\n",
       "Dep. Variable:                  CASES   R-squared:                       0.053\n",
       "Model:                            OLS   Adj. R-squared:                  0.053\n",
       "Method:                 Least Squares   F-statistic:                     151.2\n",
       "Date:                Thu, 07 May 2020   Prob (F-statistic):           2.41e-95\n",
       "Time:                        15:38:18   Log-Likelihood:                -26729.\n",
       "No. Observations:                8063   AIC:                         5.347e+04\n",
       "Df Residuals:                    8059   BIC:                         5.349e+04\n",
       "Df Model:                           3                                         \n",
       "Covariance Type:            nonrobust                                         \n",
       "===================================================================================\n",
       "                      coef    std err          t      P>|t|      [0.025      0.975]\n",
       "-----------------------------------------------------------------------------------\n",
       "const               7.2932      0.242     30.152      0.000       6.819       7.767\n",
       "gender_M           -2.7808      0.148    -18.732      0.000      -3.072      -2.490\n",
       "region_Flanders     0.6449      0.253      2.550      0.011       0.149       1.141\n",
       "region_Wallonia    -1.0021      0.259     -3.872      0.000      -1.509      -0.495\n",
       "==============================================================================\n",
       "Omnibus:                     6903.849   Durbin-Watson:                   1.233\n",
       "Prob(Omnibus):                  0.000   Jarque-Bera (JB):           340021.674\n",
       "Skew:                           3.861   Prob(JB):                         0.00\n",
       "Kurtosis:                      33.862   Cond. No.                         7.24\n",
       "==============================================================================\n",
       "\n",
       "Warnings:\n",
       "[1] Standard Errors assume that the covariance matrix of the errors is correctly specified.\n",
       "\"\"\""
      ]
     },
     "execution_count": 13,
     "metadata": {},
     "output_type": "execute_result"
    }
   ],
   "source": [
    "import statsmodels.api as sm\n",
    "X = data[['gender_M','region_Flanders', 'region_Wallonia']]\n",
    "X_constant = sm.add_constant(X)\n",
    "y = data['CASES']\n",
    "linreg2 = sm.OLS(y, X_constant).fit()\n",
    "linreg2.summary()"
   ]
  }
 ],
 "metadata": {
  "kernelspec": {
   "display_name": "Python 3",
   "language": "python",
   "name": "python3"
  },
  "language_info": {
   "codemirror_mode": {
    "name": "ipython",
    "version": 3
   },
   "file_extension": ".py",
   "mimetype": "text/x-python",
   "name": "python",
   "nbconvert_exporter": "python",
   "pygments_lexer": "ipython3",
   "version": "3.7.3"
  }
 },
 "nbformat": 4,
 "nbformat_minor": 4
}
